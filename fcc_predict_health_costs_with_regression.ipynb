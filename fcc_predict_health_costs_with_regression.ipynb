{
  "cells": [
    {
      "cell_type": "code",
      "execution_count": null,
      "metadata": {
        "id": "1rRo8oNqZ-Rj"
      },
      "outputs": [],
      "source": [
        "# Import libraries. You may or may not use all of these.\n",
        "!pip install -q git+https://github.com/tensorflow/docs\n",
        "import matplotlib.pyplot as plt\n",
        "import numpy as np\n",
        "import pandas as pd\n",
        "\n",
        "try:\n",
        "  # %tensorflow_version only exists in Colab.\n",
        "  %tensorflow_version 2.x\n",
        "except Exception:\n",
        "  pass\n",
        "import tensorflow as tf\n",
        "\n",
        "from tensorflow import keras\n",
        "from tensorflow.keras import layers\n",
        "\n",
        "import tensorflow_docs as tfdocs\n",
        "import tensorflow_docs.plots\n",
        "import tensorflow_docs.modeling"
      ]
    },
    {
      "cell_type": "code",
      "execution_count": null,
      "metadata": {
        "id": "CiX2FI4gZtTt"
      },
      "outputs": [],
      "source": [
        "# Import data\n",
        "!wget https://cdn.freecodecamp.org/project-data/health-costs/insurance.csv\n",
        "dataset = pd.read_csv('insurance.csv')\n",
        "dataset.tail()"
      ]
    },
    {
      "cell_type": "code",
      "execution_count": null,
      "metadata": {
        "id": "LcopvQh3X-kX"
      },
      "outputs": [],
      "source": [
        "# Make sure to convert categorical data to numbers. Use 80% of the data as the train_dataset and 20% of the data as the test_dataset.\n",
        "\n",
        "# convert categorical columns to numerical data\n",
        "categorical_cols = ['sex', 'smoker', 'region']\n",
        "for col in categorical_cols:\n",
        "    dataset[col], _ = dataset[col].factorize()\n",
        "\n",
        "# Use 80% of the data for train_dataset and the remainder for test_dataset\n",
        "train_dataset = dataset.sample(frac=0.8, random_state=42)\n",
        "test_dataset = dataset.drop(train_dataset.index)\n",
        "\n",
        "# pop off the \"expenses\" column from these datasets to create new datasets called train_labels and test_labels. Use these labels when training your\n",
        "# model\n",
        "\n",
        "train_labels = train_dataset.pop('expenses')\n",
        "test_labels = test_dataset.pop('expenses')\n"
      ]
    },
    {
      "cell_type": "code",
      "source": [
        "# Create a model and train it with the train_dataset. Run the final cell in this notebook to check your model. The final cell will use the\n",
        "# unseen test_dataset to check how well the model generalizes\n",
        "\n",
        "# normalize training data\n",
        "normalizer = layers.Normalization(axis=-1)\n",
        "normalizer.adapt(np.array(train_dataset))\n",
        "\n",
        "# create a sequential model\n",
        "model = tf.keras.Sequential([\n",
        "    # normalize the data\n",
        "    normalizer,\n",
        "    # first layer with 6 units and ReLU activation\n",
        "    layers.Dense(units=6, activation='relu'),\n",
        "    # second layer with 6 units and ReLU activation\n",
        "    layers.Dense(units=6, activation='relu'),\n",
        "    # output layer with 1 unit for regression\n",
        "    layers.Dense(units=1)\n",
        "])\n",
        "\n",
        "# compile the model\n",
        "model.compile(\n",
        "    optimizer=tf.optimizers.Adam(learning_rate=0.1),\n",
        "    loss='mean_absolute_error',\n",
        "    metrics=['mae', 'mse'])\n",
        "\n",
        "model.summary()"
      ],
      "metadata": {
        "id": "0D3BlS1r_Qke"
      },
      "execution_count": null,
      "outputs": []
    },
    {
      "cell_type": "code",
      "source": [
        "# Fit model and get training history\n",
        "history = model.fit(\n",
        "    # Dataset and labels to use for training\n",
        "    train_dataset, # training dataset\n",
        "    train_labels, # training labels\n",
        "    batch_size=32,\n",
        "    epochs=50,\n",
        "    verbose=0,\n",
        "    validation_split = 0.2)"
      ],
      "metadata": {
        "id": "0QivlIvH_6BJ"
      },
      "execution_count": null,
      "outputs": []
    },
    {
      "cell_type": "code",
      "execution_count": null,
      "metadata": {
        "id": "Xe7RXH3N3CWU"
      },
      "outputs": [],
      "source": [
        "# RUN THIS CELL TO TEST YOUR MODEL. DO NOT MODIFY CONTENTS.\n",
        "# Test model by checking how well the model generalizes using the test set.\n",
        "loss, mae, mse = model.evaluate(test_dataset, test_labels, verbose=2)\n",
        "\n",
        "print(\"Testing set Mean Abs Error: {:5.2f} expenses\".format(mae))\n",
        "\n",
        "if mae < 3500:\n",
        "  print(\"You passed the challenge. Great job!\")\n",
        "else:\n",
        "  print(\"The Mean Abs Error must be less than 3500. Keep trying.\")\n",
        "\n",
        "# Plot predictions.\n",
        "test_predictions = model.predict(test_dataset).flatten()\n",
        "\n",
        "a = plt.axes(aspect='equal')\n",
        "plt.scatter(test_labels, test_predictions)\n",
        "plt.xlabel('True values (expenses)')\n",
        "plt.ylabel('Predictions (expenses)')\n",
        "lims = [0, 50000]\n",
        "plt.xlim(lims)\n",
        "plt.ylim(lims)\n",
        "_ = plt.plot(lims,lims)\n"
      ]
    }
  ],
  "metadata": {
    "colab": {
      "name": "fcc_predict_health_costs_with_regression.ipynb",
      "private_outputs": true,
      "provenance": [],
      "gpuType": "T4"
    },
    "kernelspec": {
      "display_name": "Python 3",
      "name": "python3"
    }
  },
  "nbformat": 4,
  "nbformat_minor": 0
}